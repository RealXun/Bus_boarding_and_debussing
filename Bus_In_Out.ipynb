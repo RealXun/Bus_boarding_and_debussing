{
 "cells": [
  {
   "cell_type": "markdown",
   "metadata": {},
   "source": [
    "# Bus\n",
    "\n",
    "This bus has a passenger boarding and alighting control system to monitor the number of occupants it carries and thus detect when the capacity is too high.\n",
    "\n",
    "At each stop the boarding and alighting of passengers is represented by a tuple composed of two integers.\n",
    "```\n",
    "bus_stop = (in, out)\n",
    "```\n",
    "The sequence of stops is represented by a list of these tuples.\n",
    "```\n",
    "stops = [(in1, out1), (in2, out2), (in3, out3), (in4, out4)]\n",
    "```\n",
    "\n",
    "## Objectives:\n",
    "* lists, tuples\n",
    "* while/for loops\n",
    "* min, max, length\n",
    "* mean, standard deviation\n",
    "\n",
    "## Chores\n",
    "1. Calculate the number of stops.\n",
    "2. Assign to a variable a list whose elements are the number of passengers at each stop (in-out),\n",
    "3. Find the maximum occupancy of the bus.\n",
    "4. Calculate the mean occupancy. And the standard deviation.\n"
   ]
  },
  {
   "cell_type": "markdown",
   "metadata": {},
   "source": [
    "### Solution"
   ]
  },
  {
   "cell_type": "code",
   "execution_count": null,
   "metadata": {},
   "outputs": [],
   "source": [
    "stops = [(10, 0), (4, 1), (3, 5), (3, 4), (5, 1), (1, 5), (5, 8), (4, 6), (2, 3)]\n",
    "movement = []\n",
    "occupation = []\n",
    "# 1. Calculate the number of stops.\n",
    "total_stops=len(stops)\n",
    "# 2. Assign to a variable a list whose elements are the number of passengers in\n",
    "# each stop: Each element depends on the previous element in the list + in - out.\n",
    "for up,down in stops:\n",
    "    movement.append(up - down)\n",
    "    print(movement)\n",
    "# 3. Find the maximum occupancy of the bus.\n",
    "for i in range(total_stops):\n",
    "    occupation.append(sum(movement[0:i+1]))\n",
    "print(\"The maximum occupation in the bus is\", max(occupation), \"persons\")\n",
    "# 4. Calculate the average occupancy. And the standard deviation.\n",
    "print(\"The average occupation is\", round((sum(occupation)/total_stops), 2),\"persons\")\n",
    "import statistics\n",
    "print(\"The standard deviation of the occupation is\", round(statistics.stdev(occupation), 2))"
   ]
  }
 ],
 "metadata": {
  "kernelspec": {
   "display_name": "Python 3.7.4 64-bit",
   "language": "python",
   "name": "python3"
  },
  "language_info": {
   "codemirror_mode": {
    "name": "ipython",
    "version": 3
   },
   "file_extension": ".py",
   "mimetype": "text/x-python",
   "name": "python",
   "nbconvert_exporter": "python",
   "pygments_lexer": "ipython3",
   "version": "3.7.4"
  },
  "vscode": {
   "interpreter": {
    "hash": "e447912bd1abc126f1a1b02664d51750c99209b93aa0b1eb72bb880925256d69"
   }
  }
 },
 "nbformat": 4,
 "nbformat_minor": 2
}
